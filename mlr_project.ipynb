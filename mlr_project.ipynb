{
  "nbformat": 4,
  "nbformat_minor": 0,
  "metadata": {
    "kernelspec": {
      "display_name": "Python 3",
      "language": "python",
      "name": "python3"
    },
    "language_info": {
      "codemirror_mode": {
        "name": "ipython",
        "version": 3
      },
      "file_extension": ".py",
      "mimetype": "text/x-python",
      "name": "python",
      "nbconvert_exporter": "python",
      "pygments_lexer": "ipython3",
      "version": "3.8.3"
    },
    "colab": {
      "name": "mlr_project.ipynb",
      "provenance": [],
      "include_colab_link": true
    }
  },
  "cells": [
    {
      "cell_type": "markdown",
      "metadata": {
        "id": "view-in-github",
        "colab_type": "text"
      },
      "source": [
        "<a href=\"https://colab.research.google.com/github/marcinkielek/new-repo/blob/main/mlr_project.ipynb\" target=\"_parent\"><img src=\"https://colab.research.google.com/assets/colab-badge.svg\" alt=\"Open In Colab\"/></a>"
      ]
    },
    {
      "cell_type": "markdown",
      "metadata": {
        "id": "Wr20uEIlex5C"
      },
      "source": [
        "# Multiple Linear Regression\n",
        "\n",
        "This dataset contains information about used cars.\n",
        "This data can be used for a lot of purposes such as price prediction to exemplify the use of linear regression in Machine Learning.\n",
        "The columns in the given dataset are as follows:\n",
        "\n",
        "name, year, selling_price, km_driven, fuel, seller_type, transmission, Owner\n",
        "\n",
        "there are 301 rows and 8 columns in this dataset\n",
        "\n",
        "data from:\n",
        "https://www.kaggle.com/nehalbirla/vehicle-dataset-from-cardekho\n",
        "\n",
        "idea for the project:\n",
        "https://www.telusinternational.com/articles/10-open-datasets-for-linear-regression\n"
      ]
    },
    {
      "cell_type": "code",
      "metadata": {
        "id": "Csc3_Si9ex5E"
      },
      "source": [
        "#libraries\n",
        "\n",
        "import pandas as pd\n",
        "import matplotlib.pyplot as plt\n",
        "import seaborn as sns\n",
        "import io\n",
        "\n",
        "from sklearn.model_selection import train_test_split\n",
        "from sklearn.linear_model import LinearRegression\n",
        "from sklearn.metrics import mean_squared_error\n"
      ],
      "execution_count": 21,
      "outputs": []
    },
    {
      "cell_type": "code",
      "metadata": {
        "id": "RYHbRwIffo5k"
      },
      "source": [
        "#from google.colab import files\n",
        "#uploaded = files.upload()"
      ],
      "execution_count": 22,
      "outputs": []
    },
    {
      "cell_type": "code",
      "metadata": {
        "scrolled": true,
        "colab": {
          "base_uri": "https://localhost:8080/",
          "height": 204
        },
        "id": "OP_Wg9Suex5F",
        "outputId": "2824c351-fd49-4782-f3e2-70e503645ba6"
      },
      "source": [
        "df1 = pd.read_csv(io.BytesIO(uploaded['car data.csv']))\n",
        "\n",
        "\n",
        "df = pd.DataFrame(df1)\n",
        "\n",
        "df.head()"
      ],
      "execution_count": 23,
      "outputs": [
        {
          "output_type": "execute_result",
          "data": {
            "text/html": [
              "<div>\n",
              "<style scoped>\n",
              "    .dataframe tbody tr th:only-of-type {\n",
              "        vertical-align: middle;\n",
              "    }\n",
              "\n",
              "    .dataframe tbody tr th {\n",
              "        vertical-align: top;\n",
              "    }\n",
              "\n",
              "    .dataframe thead th {\n",
              "        text-align: right;\n",
              "    }\n",
              "</style>\n",
              "<table border=\"1\" class=\"dataframe\">\n",
              "  <thead>\n",
              "    <tr style=\"text-align: right;\">\n",
              "      <th></th>\n",
              "      <th>Car_Name</th>\n",
              "      <th>Year</th>\n",
              "      <th>Selling_Price</th>\n",
              "      <th>Present_Price</th>\n",
              "      <th>Kms_Driven</th>\n",
              "      <th>Fuel_Type</th>\n",
              "      <th>Seller_Type</th>\n",
              "      <th>Transmission</th>\n",
              "      <th>Owner</th>\n",
              "    </tr>\n",
              "  </thead>\n",
              "  <tbody>\n",
              "    <tr>\n",
              "      <th>0</th>\n",
              "      <td>ritz</td>\n",
              "      <td>2014</td>\n",
              "      <td>3.35</td>\n",
              "      <td>5.59</td>\n",
              "      <td>27000</td>\n",
              "      <td>Petrol</td>\n",
              "      <td>Dealer</td>\n",
              "      <td>Manual</td>\n",
              "      <td>0</td>\n",
              "    </tr>\n",
              "    <tr>\n",
              "      <th>1</th>\n",
              "      <td>sx4</td>\n",
              "      <td>2013</td>\n",
              "      <td>4.75</td>\n",
              "      <td>9.54</td>\n",
              "      <td>43000</td>\n",
              "      <td>Diesel</td>\n",
              "      <td>Dealer</td>\n",
              "      <td>Manual</td>\n",
              "      <td>0</td>\n",
              "    </tr>\n",
              "    <tr>\n",
              "      <th>2</th>\n",
              "      <td>ciaz</td>\n",
              "      <td>2017</td>\n",
              "      <td>7.25</td>\n",
              "      <td>9.85</td>\n",
              "      <td>6900</td>\n",
              "      <td>Petrol</td>\n",
              "      <td>Dealer</td>\n",
              "      <td>Manual</td>\n",
              "      <td>0</td>\n",
              "    </tr>\n",
              "    <tr>\n",
              "      <th>3</th>\n",
              "      <td>wagon r</td>\n",
              "      <td>2011</td>\n",
              "      <td>2.85</td>\n",
              "      <td>4.15</td>\n",
              "      <td>5200</td>\n",
              "      <td>Petrol</td>\n",
              "      <td>Dealer</td>\n",
              "      <td>Manual</td>\n",
              "      <td>0</td>\n",
              "    </tr>\n",
              "    <tr>\n",
              "      <th>4</th>\n",
              "      <td>swift</td>\n",
              "      <td>2014</td>\n",
              "      <td>4.60</td>\n",
              "      <td>6.87</td>\n",
              "      <td>42450</td>\n",
              "      <td>Diesel</td>\n",
              "      <td>Dealer</td>\n",
              "      <td>Manual</td>\n",
              "      <td>0</td>\n",
              "    </tr>\n",
              "  </tbody>\n",
              "</table>\n",
              "</div>"
            ],
            "text/plain": [
              "  Car_Name  Year  Selling_Price  ...  Seller_Type  Transmission Owner\n",
              "0     ritz  2014           3.35  ...       Dealer        Manual     0\n",
              "1      sx4  2013           4.75  ...       Dealer        Manual     0\n",
              "2     ciaz  2017           7.25  ...       Dealer        Manual     0\n",
              "3  wagon r  2011           2.85  ...       Dealer        Manual     0\n",
              "4    swift  2014           4.60  ...       Dealer        Manual     0\n",
              "\n",
              "[5 rows x 9 columns]"
            ]
          },
          "metadata": {},
          "execution_count": 23
        }
      ]
    },
    {
      "cell_type": "code",
      "metadata": {
        "colab": {
          "base_uri": "https://localhost:8080/",
          "height": 381
        },
        "id": "HUJZvL3Jex5G",
        "outputId": "8b59f44d-69f6-4928-fb21-bfc3bc37956b"
      },
      "source": [
        "plt.figure(figsize = (5,5))\n",
        "sns.heatmap(df.corr(),annot = True)\n",
        "plt.show()"
      ],
      "execution_count": 24,
      "outputs": [
        {
          "output_type": "display_data",
          "data": {
            "image/png": "[encoded data removed]",
            "text/plain": [
              "<Figure size 360x360 with 2 Axes>"
            ]
          },
          "metadata": {
            "needs_background": "light"
          }
        }
      ]
    },
    {
      "cell_type": "code",
      "metadata": {
        "id": "pY33VgZIex5H"
      },
      "source": [
        "#for col in df1:\n",
        "#    print(df1.Transmission.unique())"
      ],
      "execution_count": 25,
      "outputs": []
    },
    {
      "cell_type": "markdown",
      "metadata": {
        "id": "4pUm7mgpex5I"
      },
      "source": [
        "distinct values for Fuel_Type -> ['Petrol' 'Diesel' 'CNG']\n",
        "\n",
        "distinct values for Seller_Type -> ['Dealer' 'Individual']\n",
        "\n",
        "distinct values for Transmission -> ['Manual' 'Automatic']"
      ]
    },
    {
      "cell_type": "markdown",
      "metadata": {
        "id": "PzAX57GWex5I"
      },
      "source": [
        "## data cleaning"
      ]
    },
    {
      "cell_type": "code",
      "metadata": {
        "colab": {
          "base_uri": "https://localhost:8080/"
        },
        "id": "j646cH6Sex5J",
        "outputId": "f5f5f7d4-e967-44e2-94d3-67a0b06a68c8"
      },
      "source": [
        "df1_1 = pd.get_dummies(df1[\"Fuel_Type\"]) \n",
        "\n",
        "df1.Seller_Type[df1.Seller_Type == 'Dealer'] = 0\n",
        "df1.Seller_Type[df1.Seller_Type == 'Individual'] = 1\n",
        "\n",
        "df1.Transmission[df1.Transmission == 'Manual'] = 0\n",
        "df1.Transmission[df1.Transmission == 'Automatic'] = 1\n",
        "df1_2 = df1.drop(['Fuel_Type'], axis=1)\n",
        "final = pd.concat((df1_1, df1_2), axis=1)"
      ],
      "execution_count": 26,
      "outputs": [
        {
          "output_type": "stream",
          "name": "stderr",
          "text": [
            "/usr/local/lib/python3.7/dist-packages/ipykernel_launcher.py:3: SettingWithCopyWarning: \n",
            "A value is trying to be set on a copy of a slice from a DataFrame\n",
            "\n",
            "See the caveats in the documentation: https://pandas.pydata.org/pandas-docs/stable/user_guide/indexing.html#returning-a-view-versus-a-copy\n",
            "  This is separate from the ipykernel package so we can avoid doing imports until\n",
            "/usr/local/lib/python3.7/dist-packages/ipykernel_launcher.py:4: SettingWithCopyWarning: \n",
            "A value is trying to be set on a copy of a slice from a DataFrame\n",
            "\n",
            "See the caveats in the documentation: https://pandas.pydata.org/pandas-docs/stable/user_guide/indexing.html#returning-a-view-versus-a-copy\n",
            "  after removing the cwd from sys.path.\n",
            "/usr/local/lib/python3.7/dist-packages/ipykernel_launcher.py:6: SettingWithCopyWarning: \n",
            "A value is trying to be set on a copy of a slice from a DataFrame\n",
            "\n",
            "See the caveats in the documentation: https://pandas.pydata.org/pandas-docs/stable/user_guide/indexing.html#returning-a-view-versus-a-copy\n",
            "  \n",
            "/usr/local/lib/python3.7/dist-packages/ipykernel_launcher.py:7: SettingWithCopyWarning: \n",
            "A value is trying to be set on a copy of a slice from a DataFrame\n",
            "\n",
            "See the caveats in the documentation: https://pandas.pydata.org/pandas-docs/stable/user_guide/indexing.html#returning-a-view-versus-a-copy\n",
            "  import sys\n"
          ]
        }
      ]
    },
    {
      "cell_type": "code",
      "metadata": {
        "colab": {
          "base_uri": "https://localhost:8080/"
        },
        "id": "HY4HI_aiex5J",
        "outputId": "220caf58-3c15-4433-a312-928b782285f4"
      },
      "source": [
        "print(final)"
      ],
      "execution_count": 27,
      "outputs": [
        {
          "output_type": "stream",
          "name": "stdout",
          "text": [
            "     CNG  Diesel  Petrol Car_Name  ...  Kms_Driven  Seller_Type  Transmission  Owner\n",
            "0      0       0       1     ritz  ...       27000            0             0      0\n",
            "1      0       1       0      sx4  ...       43000            0             0      0\n",
            "2      0       0       1     ciaz  ...        6900            0             0      0\n",
            "3      0       0       1  wagon r  ...        5200            0             0      0\n",
            "4      0       1       0    swift  ...       42450            0             0      0\n",
            "..   ...     ...     ...      ...  ...         ...          ...           ...    ...\n",
            "296    0       1       0     city  ...       33988            0             0      0\n",
            "297    0       0       1     brio  ...       60000            0             0      0\n",
            "298    0       0       1     city  ...       87934            0             0      0\n",
            "299    0       1       0     city  ...        9000            0             0      0\n",
            "300    0       0       1     brio  ...        5464            0             0      0\n",
            "\n",
            "[301 rows x 11 columns]\n"
          ]
        }
      ]
    },
    {
      "cell_type": "code",
      "metadata": {
        "id": "RmFgZExGex5K"
      },
      "source": [
        "\n",
        "x = final[['CNG','Diesel','Petrol','Year', 'Present_Price', 'Kms_Driven', 'Seller_Type', 'Transmission', 'Owner']]\n",
        "y = final[['Selling_Price']]\n",
        "\n",
        "x_train, x_test, y_train, y_test = train_test_split(x, y, train_size = 0.8, test_size = 0.2)\n",
        "\n"
      ],
      "execution_count": 28,
      "outputs": []
    },
    {
      "cell_type": "code",
      "metadata": {
        "id": "akDQQNfQex5K"
      },
      "source": [
        "lm = LinearRegression()\n",
        "\n",
        "model = lm.fit(x_train, y_train)\n",
        "\n",
        "y_predict = lm.predict(x_test)"
      ],
      "execution_count": 29,
      "outputs": []
    },
    {
      "cell_type": "code",
      "metadata": {
        "colab": {
          "base_uri": "https://localhost:8080/",
          "height": 299
        },
        "id": "WzO8-ZUifJnN",
        "outputId": "daac868e-83c2-40dc-c5a8-a1466db381b2"
      },
      "source": [
        "plt.scatter(y_test, y_predict, alpha = 0.4)\n",
        "plt.plot(range(25), range(25))\n",
        "\n",
        "plt.xlabel(\"Prices: $Y_i$\")\n",
        "plt.ylabel(\"Predicted prices: $\\hat{Y}_i$\")\n",
        "plt.title(\"Actual Selling Price vs Predicted Selling Price\")\n",
        "\n",
        "plt.show()\n"
      ],
      "execution_count": 39,
      "outputs": [
        {
          "output_type": "display_data",
          "data": {
            "image/png": "[encoded data removed]",
            "text/plain": [
              "<Figure size 432x288 with 1 Axes>"
            ]
          },
          "metadata": {
            "needs_background": "light"
          }
        }
      ]
    },
    {
      "cell_type": "code",
      "metadata": {
        "colab": {
          "base_uri": "https://localhost:8080/"
        },
        "id": "O3h2wEbrex5K",
        "outputId": "52883b04-f117-4da4-ce4a-4c4e6bd0788e"
      },
      "source": [
        "print(\"Train score:\")\n",
        "print(lm.score(x_train,y_train))\n",
        "\n",
        "print(\"Test score:\")\n",
        "print(lm.score(x_test, y_test))\n",
        "\n"
      ],
      "execution_count": 31,
      "outputs": [
        {
          "output_type": "stream",
          "name": "stdout",
          "text": [
            "Train score:\n",
            "0.8910301139953801\n",
            "Test score:\n",
            "0.847744554456958\n"
          ]
        }
      ]
    },
    {
      "cell_type": "code",
      "metadata": {
        "id": "F7ErO33rex5L"
      },
      "source": [
        ""
      ],
      "execution_count": 31,
      "outputs": []
    }
  ]
}